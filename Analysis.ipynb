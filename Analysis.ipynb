{
 "cells": [
  {
   "cell_type": "code",
   "execution_count": 617,
   "metadata": {},
   "outputs": [],
   "source": [
    "# ======================= Importing libraries ===================================\n",
    "import numpy as np\n",
    "import pandas as pd\n",
    "import matplotlib.pyplot as plt\n",
    "import seaborn as sns\n",
    "import scipy\n",
    "%matplotlib inline"
   ]
  },
  {
   "cell_type": "code",
   "execution_count": 618,
   "metadata": {},
   "outputs": [
    {
     "name": "stdout",
     "output_type": "stream",
     "text": [
      "(891, 12)\n",
      "Number of rows(passengers): 891\n",
      "Number of cols(features): 12\n",
      "Index([u'PassengerId', u'Survived', u'Pclass', u'Name', u'Sex', u'Age',\n",
      "       u'SibSp', u'Parch', u'Ticket', u'Fare', u'Cabin', u'Embarked'],\n",
      "      dtype='object')\n"
     ]
    },
    {
     "data": {
      "text/plain": [
       "PassengerId      0\n",
       "Survived         0\n",
       "Pclass           0\n",
       "Name             0\n",
       "Sex              0\n",
       "Age            177\n",
       "SibSp            0\n",
       "Parch            0\n",
       "Ticket           0\n",
       "Fare             0\n",
       "Cabin          687\n",
       "Embarked         2\n",
       "dtype: int64"
      ]
     },
     "execution_count": 618,
     "metadata": {},
     "output_type": "execute_result"
    }
   ],
   "source": [
    "# ====================== Reading data from Titanic Dataset =======================\n",
    "train_data = pd.read_csv('./train.csv', header=0)\n",
    "#print train_data.head()\n",
    "print train_data.shape\n",
    "print \"Number of rows(passengers):\",train_data.shape[0]\n",
    "print \"Number of cols(features):\",train_data.shape[1]\n",
    "print train_data.columns\n",
    "train_data.isnull().sum()"
   ]
  },
  {
   "cell_type": "markdown",
   "metadata": {},
   "source": [
    "## Feature Engineering"
   ]
  },
  {
   "cell_type": "code",
   "execution_count": 619,
   "metadata": {},
   "outputs": [
    {
     "name": "stdout",
     "output_type": "stream",
     "text": [
      "Index([u'Passenger_id', u'Survived', u'Ticket_class', u'Name', u'Gender',\n",
      "       u'Age', u'Siblings_spouses_aboard', u'Parents_children_aboard',\n",
      "       u'Ticket_number', u'Fare', u'Cabin_number', u'Port_of_embarkation'],\n",
      "      dtype='object')\n"
     ]
    }
   ],
   "source": [
    "# change confusing/unclear column names to easily recognizable ones\n",
    "new_col_names = ['Passenger_id', 'Survived', 'Ticket_class', 'Name', 'Gender', 'Age',\n",
    "                 'Siblings_spouses_aboard', 'Parents_children_aboard', 'Ticket_number', 'Fare',\n",
    "                'Cabin_number', 'Port_of_embarkation']\n",
    "train_data.columns = new_col_names\n",
    "print train_data.columns"
   ]
  },
  {
   "cell_type": "code",
   "execution_count": 620,
   "metadata": {},
   "outputs": [
    {
     "name": "stdout",
     "output_type": "stream",
     "text": [
      "0        Died\n",
      "1    Survived\n",
      "2    Survived\n",
      "3    Survived\n",
      "4        Died\n",
      "Name: Survived, dtype: object\n"
     ]
    }
   ],
   "source": [
    "# Change 'Survived' column values\n",
    "train_data['Survived'] = train_data['Survived'].map({0:'Died', 1:'Survived'})\n",
    "print train_data['Survived'].head()"
   ]
  },
  {
   "cell_type": "code",
   "execution_count": 621,
   "metadata": {},
   "outputs": [
    {
     "name": "stdout",
     "output_type": "stream",
     "text": [
      "0    Third class\n",
      "1    First class\n",
      "2    Third class\n",
      "3    First class\n",
      "4    Third class\n",
      "Name: Ticket_class, dtype: object\n"
     ]
    }
   ],
   "source": [
    "# Change 'Ticket_class' column values \n",
    "train_data['Ticket_class'] = train_data['Ticket_class'].map({1:'First class', \\\n",
    "                                                             2:'Second class',3:'Third class'})\n",
    "print train_data['Ticket_class'].head()"
   ]
  },
  {
   "cell_type": "code",
   "execution_count": 622,
   "metadata": {},
   "outputs": [
    {
     "name": "stdout",
     "output_type": "stream",
     "text": [
      "0    Southampton\n",
      "1      Cherbourg\n",
      "2    Southampton\n",
      "3    Southampton\n",
      "4    Southampton\n",
      "Name: Port_of_embarkation, dtype: object\n"
     ]
    }
   ],
   "source": [
    "# Change 'Port_of_embarkation' column values\n",
    "train_data['Port_of_embarkation'] = train_data['Port_of_embarkation'].map({'S':'Southampton', \\\n",
    "                                                                           'C':'Cherbourg', \\\n",
    "                                                                           'Q':'Queenstown'})\n",
    "print train_data['Port_of_embarkation'].head()"
   ]
  },
  {
   "cell_type": "code",
   "execution_count": 623,
   "metadata": {},
   "outputs": [
    {
     "data": {
      "image/png": "[encoded data removed]",
      "text/plain": [
       "<matplotlib.figure.Figure at 0x7f3b4b4be590>"
      ]
     },
     "metadata": {},
     "output_type": "display_data"
    }
   ],
   "source": [
    "fig = plt.figure(figsize=(13, 7))\n",
    "columns = ['Survived', 'Ticket_class', 'Gender', 'Siblings_spouses_aboard',\\\n",
    "           'Parents_children_aboard', 'Port_of_embarkation']\n",
    "for i in range (0,len(columns)):\n",
    "    fig.add_subplot(2,3,i+1)\n",
    "    sns.countplot(x=columns[i], data=train_data);            \n",
    "plt.show()\n",
    "fig.clear()"
   ]
  },
  {
   "cell_type": "markdown",
   "metadata": {},
   "source": [
    "## Investigation of Titanic dataset\n",
    "1. Selection of feature to test against survival.\n",
    "    - **Useful features:** Gender, Ticket_class, Fare, Age\n",
    "    - **Useless features:** Passenger_id, Name, Siblings_spouses_aboard, Parents_children_aboard, Ticket_number, Cabin_number, Port_of_embarkation\n",
    "    \n",
    "## Let us see whether Passenger gender correlates with survival?\n",
    "### Gender seems to affect survival.\n",
    "#### Let's prove by using Pearson's chi-squared test for goodness of fit because gender is a categorical variable.\n",
    "1. Null hypothesis (H<sub>0</sub>): The death rate for males and females is 61.62.\n",
    "2. Alternative hypothesis (H<sub>1</sub>): The death rate for males and females is not 61.62.\n",
    "3. Find the chi-square statistic and p-value in the chi-square table.\n",
    "4. Decide whether to support or reject the null hypothesis. In general, small p-values would cause you to reject the null hypothesis. "
   ]
  },
  {
   "cell_type": "code",
   "execution_count": 624,
   "metadata": {},
   "outputs": [
    {
     "name": "stdout",
     "output_type": "stream",
     "text": [
      "['male' 'female']\n",
      "['Died' 'Survived']\n"
     ]
    }
   ],
   "source": [
    "# Features\n",
    "print train_data['Gender'].unique()\n",
    "print train_data['Survived'].unique()"
   ]
  },
  {
   "cell_type": "code",
   "execution_count": 625,
   "metadata": {},
   "outputs": [
    {
     "data": {
      "image/png": "[encoded data removed]",
      "text/plain": [
       "<matplotlib.figure.Figure at 0x7f3b4a994890>"
      ]
     },
     "metadata": {},
     "output_type": "display_data"
    }
   ],
   "source": [
    "# Graph visualization\n",
    "gender_vs_survive = train_data[['Gender', 'Survived']]\n",
    "#print gender_vs_survive\n",
    "colors = ['green' if (x=='Survived') else 'red' for x in gender_vs_survive['Survived']]\n",
    "plot = sns.countplot(x='Gender', hue='Survived', data=gender_vs_survive, palette=colors)\n",
    "plot.axes.set_title('Passenger gender vs Survival counts', fontsize=12, fontweight='bold',\\\n",
    "                    color=\"black\")\n",
    "plot.figure.set_size_inches(5,5)\n",
    "sns.set_style(\"whitegrid\")"
   ]
  },
  {
   "cell_type": "code",
   "execution_count": 626,
   "metadata": {},
   "outputs": [
    {
     "name": "stdout",
     "output_type": "stream",
     "text": [
      "Description of male passengers:\n",
      "male: 577\n",
      "male survive: 109\n",
      "male died: 468\n",
      "male deaths(%): 81.1091854419\n",
      "====================================\n",
      "Description of female passengers:\n",
      "female: 314\n",
      "female survive: 233\n",
      "female died: 81\n",
      "female deaths(%): 25.7961783439\n",
      "====================================\n",
      "Description of all passengers:\n",
      "Total passengers: 891\n",
      "Total survive: 342\n",
      "Total died: 549\n",
      "Total deaths(%) 61.6161616162\n"
     ]
    }
   ],
   "source": [
    "# Description of male passengers\n",
    "print \"Description of male passengers:\"\n",
    "male = len(gender_vs_survive[(gender_vs_survive['Gender'] == 'male')])\n",
    "male_survive = len(gender_vs_survive[(gender_vs_survive['Gender'] == 'male') & \\\n",
    "                                  (gender_vs_survive['Survived'] == 'Survived')])\n",
    "male_died = len(gender_vs_survive[(gender_vs_survive['Gender'] == 'male') & \\\n",
    "                                  (gender_vs_survive['Survived'] == 'Died')])\n",
    "print \"male:\", male\n",
    "print \"male survive:\", male_survive\n",
    "print \"male died:\", male_died\n",
    "print \"male deaths(%):\",(male_died/float(male))*100\n",
    "print \"====================================\"\n",
    "\n",
    "# Description of female passengers\n",
    "print \"Description of female passengers:\"\n",
    "female = len(gender_vs_survive[(gender_vs_survive['Gender'] == 'female')])\n",
    "female_survive = len(gender_vs_survive[(gender_vs_survive['Gender'] == 'female') & \\\n",
    "                                  (gender_vs_survive['Survived'] == 'Survived')])\n",
    "female_died = len(gender_vs_survive[(gender_vs_survive['Gender'] == 'female') & \\\n",
    "                                  (gender_vs_survive['Survived'] == 'Died')])\n",
    "print \"female:\", female\n",
    "print \"female survive:\", female_survive\n",
    "print \"female died:\", female_died\n",
    "print \"female deaths(%):\",(female_died/float(female))*100\n",
    "print \"====================================\"\n",
    "\n",
    "# Description of all passengers\n",
    "print \"Description of all passengers:\"\n",
    "total_pass = male + female\n",
    "total_survive = male_survive + female_survive\n",
    "total_died = male_died + female_died\n",
    "print \"Total passengers:\", total_pass\n",
    "print \"Total survive:\", total_survive\n",
    "print \"Total died:\", total_died\n",
    "print \"Total deaths(%)\", ((total_died/float(total_pass))*100)"
   ]
  },
  {
   "cell_type": "code",
   "execution_count": 627,
   "metadata": {},
   "outputs": [
    {
     "name": "stdout",
     "output_type": "stream",
     "text": [
      "Observed frequency table: [109, 233, 468, 81]\n",
      "Expected frequency table: [221.47474747474746, 120.52525252525251, 355.5252525252525, 193.47474747474746]\n",
      "chi-square statistic: 263.050574071\n",
      "p-value: 7.57344733665e-58\n"
     ]
    }
   ],
   "source": [
    "survive_ratio = (total_survive/float(total_pass))\n",
    "died_ratio = (total_died/float(total_pass))\n",
    "obs_freq = [male_survive, female_survive, male_died, female_died]\n",
    "exp_freq = [(male * survive_ratio), (female * survive_ratio), (male * died_ratio), (female * died_ratio)]\n",
    "print \"Observed frequency table:\",obs_freq\n",
    "print \"Expected frequency table:\",exp_freq\n",
    "\n",
    "# Pearson's chi-squared test (goodness of fit)\n",
    "chi_sq_test = scipy.stats.chisquare(obs_freq, f_exp=exp_freq, ddof=1, axis=None)\n",
    "print \"chi-square statistic:\",chi_sq_test[0]\n",
    "print \"p-value:\",chi_sq_test[1]"
   ]
  },
  {
   "cell_type": "markdown",
   "metadata": {},
   "source": [
    "## Conclusion\n",
    "- Null hypothesis is rejected because of extremely tiny probability.\n",
    "- Female passengers are more likely to survive than male passengers.\n",
    "\n",
    "## Let us see whether Passenger class correlates with survival?\n",
    "#### Let's prove by using Pearson's chi-squared test for goodness of fit because class is a categorical variable.\n",
    "1. (H<sub>0</sub>): The death rate of all passengers class is 61.62.\n",
    "2. (H<sub>1</sub>): The death rate of all passengers class is not 61.62.\n",
    "3. Find the chi-square statistic and p-value in the chi-square table.\n",
    "4. Decide whether to support or reject the null hypothesis. In general, small p-values would cause you to reject the null hypothesis. "
   ]
  },
  {
   "cell_type": "code",
   "execution_count": 628,
   "metadata": {},
   "outputs": [
    {
     "name": "stdout",
     "output_type": "stream",
     "text": [
      "['Third class' 'First class' 'Second class']\n",
      "['Died' 'Survived']\n"
     ]
    }
   ],
   "source": [
    "# Features\n",
    "print train_data['Ticket_class'].unique()\n",
    "print train_data['Survived'].unique()"
   ]
  },
  {
   "cell_type": "code",
   "execution_count": 629,
   "metadata": {},
   "outputs": [
    {
     "data": {
      "image/png": "[encoded data removed]",
      "text/plain": [
       "<matplotlib.figure.Figure at 0x7f3b4a712950>"
      ]
     },
     "metadata": {},
     "output_type": "display_data"
    }
   ],
   "source": [
    "# Graph visualization\n",
    "class_vs_survive = train_data[['Ticket_class', 'Survived']]\n",
    "#print class_vs_survive\n",
    "colors = ['green' if (x=='Survived') else 'red' for x in gender_vs_survive['Survived']]\n",
    "plot = sns.countplot(x='Ticket_class', hue='Survived', data=class_vs_survive, palette=colors)\n",
    "plot.axes.set_title('Passenger\\'s Ticket class vs Survival counts', fontsize=12, fontweight='bold',\\\n",
    "                    color=\"black\")\n",
    "plot.figure.set_size_inches(5,5)\n",
    "sns.set_style(\"whitegrid\")"
   ]
  },
  {
   "cell_type": "code",
   "execution_count": 630,
   "metadata": {},
   "outputs": [
    {
     "name": "stdout",
     "output_type": "stream",
     "text": [
      "Description of First class passengers:\n",
      "First class pass: 216\n",
      "First class survive: 136\n",
      "First class died: 80\n",
      "First class deaths(%): 37.037037037\n",
      "====================================\n",
      "Description of Second class passengers:\n",
      "Second class pass: 184\n",
      "Second class survive: 87\n",
      "Second class died: 97\n",
      "Second class deaths(%): 52.7173913043\n",
      "====================================\n",
      "Description of Third class passengers:\n",
      "Third class pass: 491\n",
      "Third class survive: 119\n",
      "Third class died: 372\n",
      "Third class deaths(%): 75.7637474542\n",
      "====================================\n",
      "Description of all passengers:\n",
      "Total passengers: 891\n",
      "Total survive: 342\n",
      "Total died: 549\n",
      "Total deaths(%) 61.6161616162\n"
     ]
    }
   ],
   "source": [
    "# Description of First class passengers\n",
    "print \"Description of First class passengers:\" \n",
    "First_class_pass = len(class_vs_survive[(class_vs_survive['Ticket_class'] == 'First class')])\n",
    "First_class_survive = len(class_vs_survive[(class_vs_survive['Ticket_class'] == 'First class') & \\\n",
    "                                  (class_vs_survive['Survived'] == 'Survived')])\n",
    "First_class_died = len(class_vs_survive[(class_vs_survive['Ticket_class'] == 'First class') & \\\n",
    "                                  (class_vs_survive['Survived'] == 'Died')])\n",
    "print \"First class pass:\", First_class_pass\n",
    "print \"First class survive:\", First_class_survive\n",
    "print \"First class died:\", First_class_died\n",
    "print \"First class deaths(%):\",(First_class_died/float(First_class_pass))*100\n",
    "print \"=====================================\"\n",
    "\n",
    "# Description of Second class passengers\n",
    "print \"Description of Second class passengers:\"\n",
    "Second_class_pass = len(class_vs_survive[(class_vs_survive['Ticket_class'] == 'Second class')])\n",
    "Second_class_survive = len(class_vs_survive[(class_vs_survive['Ticket_class'] == 'Second class') & \\\n",
    "                                  (class_vs_survive['Survived'] == 'Survived')])\n",
    "Second_class_died = len(class_vs_survive[(class_vs_survive['Ticket_class'] == 'Second class') & \\\n",
    "                                  (class_vs_survive['Survived'] == 'Died')])\n",
    "print \"Second class pass:\", Second_class_pass\n",
    "print \"Second class survive:\", Second_class_survive\n",
    "print \"Second class died:\", Second_class_died\n",
    "print \"Second class deaths(%):\",(Second_class_died/float(Second_class_pass))*100\n",
    "print \"=====================================\"\n",
    "       \n",
    "# Description of Third class passengers\n",
    "print \"Description of Third class passengers:\"\n",
    "Third_class_pass = len(class_vs_survive[(class_vs_survive['Ticket_class'] == 'Third class')])\n",
    "Third_class_survive = len(class_vs_survive[(class_vs_survive['Ticket_class'] == 'Third class') & \\\n",
    "                                  (class_vs_survive['Survived'] == 'Survived')])\n",
    "Third_class_died = len(class_vs_survive[(class_vs_survive['Ticket_class'] == 'Third class') & \\\n",
    "                                  (class_vs_survive['Survived'] == 'Died')])\n",
    "print \"Third class pass:\", Third_class_pass\n",
    "print \"Third class survive:\", Third_class_survive\n",
    "print \"Third class died:\", Third_class_died\n",
    "print \"Third class deaths(%):\",(Third_class_died/float(Third_class_pass))*100\n",
    "print \"=====================================\"\n",
    "\n",
    "# Description of all passengers\n",
    "print \"Description of all passengers:\"\n",
    "total_pass = First_class_pass + Second_class_pass + Third_class_pass\n",
    "total_survive = First_class_survive + Second_class_survive + Third_class_survive\n",
    "total_died = First_class_died + Second_class_died + Third_class_died\n",
    "print \"Total passengers:\", total_pass\n",
    "print \"Total survive:\", total_survive\n",
    "print \"Total died:\", total_died\n",
    "print \"Total deaths(%)\", ((total_died/float(total_pass))*100)"
   ]
  },
  {
   "cell_type": "code",
   "execution_count": 631,
   "metadata": {},
   "outputs": [
    {
     "name": "stdout",
     "output_type": "stream",
     "text": [
      "Observed frequency table: [136, 87, 119, 80, 97, 372]\n",
      "Expected frequency table: [82.9090909090909, 70.62626262626262, 188.46464646464645, 133.0909090909091, 113.37373737373737, 302.5353535353535]\n",
      "chi-square statistic: 102.888988757\n",
      "p-value: 2.38583205799e-21\n"
     ]
    }
   ],
   "source": [
    "survive_ratio = (total_survive/float(total_pass))\n",
    "died_ratio = (total_died/float(total_pass))\n",
    "obs_freq = [First_class_survive, Second_class_survive, Third_class_survive,\\\n",
    "            First_class_died, Second_class_died, Third_class_died]\n",
    "exp_freq = [(First_class_pass * survive_ratio), (Second_class_pass * survive_ratio),\\\n",
    "            (Third_class_pass * survive_ratio),(First_class_pass * died_ratio), \\\n",
    "            (Second_class_pass * died_ratio), (Third_class_pass * died_ratio)]\n",
    "print \"Observed frequency table:\",obs_freq\n",
    "print \"Expected frequency table:\",exp_freq\n",
    "\n",
    "# Pearson's chi-squared test (goodness of fit)\n",
    "chi_sq_test = scipy.stats.chisquare(obs_freq, f_exp=exp_freq, ddof=1, axis=None)\n",
    "print \"chi-square statistic:\",chi_sq_test[0]\n",
    "print \"p-value:\",chi_sq_test[1]"
   ]
  },
  {
   "cell_type": "markdown",
   "metadata": {},
   "source": [
    "## Conclusion\n",
    "- Null hypothesis is rejected because of extremely tiny probability.\n",
    "- The higher a passenger's class, the more likely that the passenger survives."
   ]
  },
  {
   "cell_type": "markdown",
   "metadata": {},
   "source": [
    "# Machine Learning on Titanic dataset "
   ]
  },
  {
   "cell_type": "code",
   "execution_count": 632,
   "metadata": {},
   "outputs": [],
   "source": [
    "# ===================== Importing machine learning libraries ===========================================\n",
    "from sklearn.naive_bayes import GaussianNB\n",
    "from sklearn.ensemble import RandomForestClassifier\n",
    "from sklearn import svm\n",
    "from sklearn.linear_model import LogisticRegression\n",
    "from sklearn.tree import DecisionTreeClassifier\n",
    "from sklearn.neighbors import KNeighborsClassifier\n",
    "from sklearn.discriminant_analysis import LinearDiscriminantAnalysis, QuadraticDiscriminantAnalysis\n",
    "from sklearn.ensemble import BaggingClassifier\n",
    "from sklearn.ensemble import AdaBoostClassifier\n",
    "from sklearn.ensemble import GradientBoostingClassifier\n",
    "from sklearn.model_selection import StratifiedShuffleSplit\n",
    "from sklearn.metrics import accuracy_score\n",
    "from collections import Counter\n",
    "import matplotlib.pyplot as plt"
   ]
  },
  {
   "cell_type": "markdown",
   "metadata": {},
   "source": [
    "## Data Cleaning\n",
    "### Goal:\n",
    "    1. Fix missing values\n",
    "    2. Fix data structures\n",
    "    3. Save new cleaned data sets"
   ]
  },
  {
   "cell_type": "code",
   "execution_count": 633,
   "metadata": {},
   "outputs": [],
   "source": [
    "# ============================ Data Cleaning ====================================================\n",
    "\n",
    "# Filling missing values\n",
    "train_data['Age'] = train_data['Age'].fillna(train_data.Age.mean())\n",
    "train_data['Fare'] = train_data['Fare'].fillna(train_data.Fare.mean())\n",
    "train_data['Port_of_embarkation'] = train_data['Port_of_embarkation'].fillna(\\\n",
    "                                    train_data.Port_of_embarkation.value_counts().idxmax())\n",
    "\n",
    "# Create some new features (Family_size, Is_alone) from the existing features\n",
    "for data in train_data:\n",
    "    train_data['Family_size'] = train_data['Siblings_spouses_aboard'] + train_data['Parents_children_aboard'] + 1\n",
    "for data in train_data:\n",
    "    train_data['Is_alone'] = 0\n",
    "    train_data.loc[train_data['Family_size'] == 1, 'Is_alone'] = 1\n",
    "    \n",
    "# Save clean train data\n",
    "clean_train_data = train_data"
   ]
  },
  {
   "cell_type": "code",
   "execution_count": 634,
   "metadata": {},
   "outputs": [
    {
     "name": "stdout",
     "output_type": "stream",
     "text": [
      "   Survived  Ticket_class  Gender  Age  Fare  Port_of_embarkation  Is_alone\n",
      "0         0             3       1    1     0                    0         0\n",
      "1         1             1       0    2     3                    1         0\n",
      "2         1             3       0    1     1                    0         1\n",
      "3         1             1       0    2     3                    0         0\n",
      "4         0             3       1    2     1                    0         1\n",
      "5         0             3       1    1     1                    2         1\n",
      "6         0             1       1    3     3                    0         1\n",
      "7         0             3       1    0     2                    0         0\n",
      "8         1             3       0    1     1                    0         0\n",
      "9         1             2       0    0     2                    1         0\n"
     ]
    }
   ],
   "source": [
    "# ============================== Feature extraction =================================================\n",
    " \n",
    "# Convert text into numeric form\n",
    "clean_train_data['Survived'] = clean_train_data['Survived'].map({'Died': 0, 'Survived': 1})\n",
    "\n",
    "clean_train_data['Ticket_class'] = clean_train_data['Ticket_class'].map({'First class': 1, \\\n",
    "                                                             'Second class': 2, 'Third class': 3})\n",
    "\n",
    "clean_train_data['Gender'] = clean_train_data['Gender'].map( {'female': 0, 'male': 1} ).astype(int)\n",
    "\n",
    "clean_train_data['Port_of_embarkation'] = clean_train_data['Port_of_embarkation'].map( \\\n",
    "                                    {'Southampton': 0, 'Cherbourg': 1, 'Queenstown': 2} ).astype(int)\n",
    "\n",
    "clean_train_data.loc[ clean_train_data['Fare'] <= 7.91, 'Fare'] = 0\n",
    "clean_train_data.loc[(clean_train_data['Fare'] > 7.91) & (clean_train_data['Fare'] <= 14.454), 'Fare'] = 1\n",
    "clean_train_data.loc[(clean_train_data['Fare'] > 14.454) & (clean_train_data['Fare'] <= 31), 'Fare']   = 2\n",
    "clean_train_data.loc[ clean_train_data['Fare'] > 31, 'Fare'] = 3\n",
    "clean_train_data['Fare'] = clean_train_data['Fare'].astype(int)\n",
    "\n",
    "clean_train_data.loc[ clean_train_data['Age'] <= 16, 'Age'] = 0\n",
    "clean_train_data.loc[(clean_train_data['Age'] > 16) & (clean_train_data['Age'] <= 32), 'Age'] = 1\n",
    "clean_train_data.loc[(clean_train_data['Age'] > 32) & (clean_train_data['Age'] <= 48), 'Age'] = 2\n",
    "clean_train_data.loc[(clean_train_data['Age'] > 48) & (clean_train_data['Age'] <= 64), 'Age'] = 3\n",
    "clean_train_data.loc[ clean_train_data['Age'] > 64, 'Age'] = 4\n",
    "clean_train_data['Age'] = clean_train_data['Age'].astype(int)\n",
    "\n",
    "# Feature Selection\n",
    "drop_elements = ['Passenger_id', 'Name', 'Cabin_number', 'Ticket_number', 'Family_size', 'Siblings_spouses_aboard',\\\n",
    "                 'Parents_children_aboard']\n",
    "\n",
    "train_data_feature = clean_train_data.drop(drop_elements, axis = 1)\n",
    "print train_data_feature.head(10)"
   ]
  },
  {
   "cell_type": "code",
   "execution_count": 635,
   "metadata": {},
   "outputs": [
    {
     "name": "stdout",
     "output_type": "stream",
     "text": [
      "           Classifier                          Accuracy  \n",
      "1          LinearSVC                           0.707070707071\n",
      "2          LogisticRegression                  0.678787878788\n",
      "3          KNeighborsClassifier                0.721212121212\n",
      "4          AdaBoostClassifier                  0.710101010101\n",
      "5          GaussianNB                          0.689898989899\n",
      "6          LinearDiscriminantAnalysis          0.705050505051\n",
      "7          BaggingClassifier                   0.720202020202\n",
      "8          DecisionTreeClassifier              0.722222222222\n",
      "9          RandomForestClassifier              0.723232323232\n",
      "10         QuadraticDiscriminantAnalysis       0.717171717172\n",
      "11         GradientBoostingClassifier          0.737373737374\n"
     ]
    }
   ],
   "source": [
    "# =========================== Classification algorithm =================================================\n",
    "train_data_feature = train_data_feature.values\n",
    "#print(train_data_feature)\n",
    "sss = StratifiedShuffleSplit(n_splits=10, test_size=0.1, random_state=0)\n",
    "x = train_data_feature[0::, 1::]\n",
    "y = train_data_feature[0::, 0]\n",
    "\n",
    "classifiers = [GaussianNB(), RandomForestClassifier(n_estimators=150,  max_depth=30), svm.LinearSVC(C=0.01),\\\n",
    "               LogisticRegression(C=.01, max_iter=100), DecisionTreeClassifier(criterion=\"entropy\", max_depth=30),\\\n",
    "               KNeighborsClassifier(n_neighbors=5), LinearDiscriminantAnalysis(), QuadraticDiscriminantAnalysis(),\\\n",
    "               BaggingClassifier(n_estimators=150), AdaBoostClassifier(n_estimators=150),\\\n",
    "               GradientBoostingClassifier(n_estimators=150)]\n",
    "classifier_accuracy  = {}\n",
    "for train_index, test_index in sss.split(x, y):\n",
    "    x_train, x_test = x[train_index], x[test_index]\n",
    "    y_train, y_test = y[train_index], y[test_index]\n",
    "    for classifier in classifiers:\n",
    "        classifier_name = classifier.__class__.__name__\n",
    "        classifier.fit(x_train, y_train)\n",
    "        predictions = classifier.predict(x_test)\n",
    "        accuracy = accuracy_score(y_test, predictions)\n",
    "        if classifier_name in classifier_accuracy:\n",
    "            classifier_accuracy[classifier_name] += accuracy\n",
    "        else:\n",
    "            classifier_accuracy[classifier_name] = accuracy\n",
    "            \n",
    "for classifier in classifier_accuracy:\n",
    "    classifier_accuracy[classifier] = classifier_accuracy[classifier] / 11.0\n",
    "    \n",
    "print \"{:<10} {:<35} {:<10}\".format(' ', 'Classifier','Accuracy')\n",
    "id = 1\n",
    "for c, a in classifier_accuracy.iteritems():\n",
    "    print \"{:<10} {:<35} {:<10}\".format(id, c, a)\n",
    "    id = id+1"
   ]
  },
  {
   "cell_type": "code",
   "execution_count": 636,
   "metadata": {
    "scrolled": true
   },
   "outputs": [
    {
     "data": {
      "image/png": "[encoded data removed]",
      "text/plain": [
       "<matplotlib.figure.Figure at 0x7f3b4b56f990>"
      ]
     },
     "metadata": {},
     "output_type": "display_data"
    }
   ],
   "source": [
    "# ========================== Visualization ======================================================\n",
    "counts = Counter(classifier_accuracy)\n",
    "plt.pie([float(v) for v in counts.values()], labels=[k for k in counts],\n",
    "           autopct=None)\n",
    "plt.show()"
   ]
  },
  {
   "cell_type": "markdown",
   "metadata": {},
   "source": [
    "## Conclusions\n",
    "1. **Investigation** \n",
    "    - Which passenger characteristics correlate with survival?\n",
    "        - __Passenger gender correlates with survival:__ Females were more likely to survive than males.\n",
    "        - __Passenger class correlates with survival:__ The higher the passenger's class, the more likely that he or she survived. \n",
    "        \n",
    "2. **Machine Learning on Titanic dataset**\n",
    "    - GradientBoostingClassifier can be used to find insights on the Titanic dataset.\n",
    "\n"
   ]
  }
 ],
 "metadata": {
  "kernelspec": {
   "display_name": "Python 3",
   "language": "python",
   "name": "python3"
  },
  "language_info": {
   "codemirror_mode": {
    "name": "ipython",
    "version": 2
   },
   "file_extension": ".py",
   "mimetype": "text/x-python",
   "name": "python",
   "nbconvert_exporter": "python",
   "pygments_lexer": "ipython2",
   "version": "2.7.14"
  }
 },
 "nbformat": 4,
 "nbformat_minor": 2
}
